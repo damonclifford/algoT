{
 "cells": [
  {
   "cell_type": "code",
   "execution_count": 3,
   "metadata": {
    "collapsed": true
   },
   "outputs": [],
   "source": [
    "import pandas as pd\n",
    "import matplotlib.pyplot as plt\n",
    "import json\n",
    "import requests\n",
    "%matplotlib inline"
   ]
  },
  {
   "cell_type": "code",
   "execution_count": 4,
   "metadata": {},
   "outputs": [
    {
     "data": {
      "text/html": [
       "<div>\n",
       "<table border=\"1\" class=\"dataframe\">\n",
       "  <thead>\n",
       "    <tr style=\"text-align: right;\">\n",
       "      <th></th>\n",
       "      <th>open</th>\n",
       "      <th>high</th>\n",
       "      <th>low</th>\n",
       "      <th>close</th>\n",
       "      <th>volume</th>\n",
       "    </tr>\n",
       "    <tr>\n",
       "      <th>timestamp</th>\n",
       "      <th></th>\n",
       "      <th></th>\n",
       "      <th></th>\n",
       "      <th></th>\n",
       "      <th></th>\n",
       "    </tr>\n",
       "  </thead>\n",
       "  <tbody>\n",
       "    <tr>\n",
       "      <th>2010-06-29</th>\n",
       "      <td>19.00</td>\n",
       "      <td>25.0000</td>\n",
       "      <td>17.54</td>\n",
       "      <td>23.89</td>\n",
       "      <td>18766300</td>\n",
       "    </tr>\n",
       "    <tr>\n",
       "      <th>2010-06-30</th>\n",
       "      <td>25.79</td>\n",
       "      <td>30.4192</td>\n",
       "      <td>23.30</td>\n",
       "      <td>23.83</td>\n",
       "      <td>17187100</td>\n",
       "    </tr>\n",
       "    <tr>\n",
       "      <th>2010-07-01</th>\n",
       "      <td>25.00</td>\n",
       "      <td>25.9200</td>\n",
       "      <td>20.27</td>\n",
       "      <td>21.96</td>\n",
       "      <td>8218800</td>\n",
       "    </tr>\n",
       "    <tr>\n",
       "      <th>2010-07-02</th>\n",
       "      <td>23.00</td>\n",
       "      <td>23.1000</td>\n",
       "      <td>18.71</td>\n",
       "      <td>19.20</td>\n",
       "      <td>5139800</td>\n",
       "    </tr>\n",
       "    <tr>\n",
       "      <th>2010-07-06</th>\n",
       "      <td>20.00</td>\n",
       "      <td>20.0000</td>\n",
       "      <td>15.83</td>\n",
       "      <td>16.11</td>\n",
       "      <td>6866900</td>\n",
       "    </tr>\n",
       "  </tbody>\n",
       "</table>\n",
       "</div>"
      ],
      "text/plain": [
       "             open     high    low  close    volume\n",
       "timestamp                                         \n",
       "2010-06-29  19.00  25.0000  17.54  23.89  18766300\n",
       "2010-06-30  25.79  30.4192  23.30  23.83  17187100\n",
       "2010-07-01  25.00  25.9200  20.27  21.96   8218800\n",
       "2010-07-02  23.00  23.1000  18.71  19.20   5139800\n",
       "2010-07-06  20.00  20.0000  15.83  16.11   6866900"
      ]
     },
     "execution_count": 4,
     "metadata": {},
     "output_type": "execute_result"
    }
   ],
   "source": [
    "# api_key = 'U93z8Z-2erhNJgpJ1mNy'\n",
    "# api_url = \"https://www.quandl.com/api/v3/datasets/WIKI/GOOGL/data.json?api_key={}\".format(api_key)\n",
    "# params = {'limit': 1000}\n",
    "# response = requests.get(api_url, params=params)\n",
    "# m_dict = response.json()\n",
    "df = pd.read_csv('daily_TSLA.csv', parse_dates=['timestamp']).sort_values('timestamp').set_index('timestamp')\n",
    "df.head()"
   ]
  },
  {
   "cell_type": "code",
   "execution_count": 5,
   "metadata": {
    "collapsed": true
   },
   "outputs": [],
   "source": [
    "small_ma = 50\n",
    "long_ma = 200\n",
    "sm = df.close.rolling(small_ma).mean()\n",
    "lo = df.close.rolling(long_ma).mean()"
   ]
  },
  {
   "cell_type": "code",
   "execution_count": 7,
   "metadata": {
    "collapsed": true
   },
   "outputs": [],
   "source": [
    "def moving_average(df, small_ma, lomg_ma):\n",
    "    sm = df.close.rolling(small_ma).mean()\n",
    "    lo = df.close.rolling(long_ma).mean()\n",
    "    buy = sm > lo\n",
    "    sell = sm < lo\n",
    "    return buy,sell"
   ]
  },
  {
   "cell_type": "code",
   "execution_count": 8,
   "metadata": {
    "collapsed": true
   },
   "outputs": [],
   "source": [
    "buy, sell = moving_average(df, 50, 200)"
   ]
  },
  {
   "cell_type": "code",
   "execution_count": 17,
   "metadata": {
    "collapsed": true
   },
   "outputs": [],
   "source": [
    "portfolio = 100\n",
    "def backtest(df, buy, sell, capital, ini_shares, number = 10):\n",
    "    portfolio = ini_shares\n",
    "    cash = capital\n",
    "    df['buy'] = buy\n",
    "    df['sell'] = sell\n",
    "    trades = []\n",
    "    for index, row in df[(df['buy'] == True) | (df['sell'] == True)].iterrows():\n",
    "        trade = {}\n",
    "        trade['price'] = row['close']\n",
    "        trade['timestamp'] = index\n",
    "        if(row['buy']):\n",
    "            portfolio += number\n",
    "            cash = cash - number*(row['close'])\n",
    "            trade['portfolio'] = portfolio\n",
    "            trade['cash'] = cash\n",
    "            trade['type'] = 'buy'\n",
    "        elif(row['sell']):\n",
    "            portfolio -= number\n",
    "            cash = cash + number*(row['close'])\n",
    "            trade['portfolio'] = portfolio\n",
    "            trade['cash'] = cash\n",
    "            trade['type'] = 'sell'\n",
    "        trades.append(trade)\n",
    "    trades_df = pd.DataFrame(trades).set_index('timestamp')\n",
    "    return trades"
   ]
  },
  {
   "cell_type": "code",
   "execution_count": 16,
   "metadata": {},
   "outputs": [
    {
     "data": {
      "text/html": [
       "<div>\n",
       "<table border=\"1\" class=\"dataframe\">\n",
       "  <thead>\n",
       "    <tr style=\"text-align: right;\">\n",
       "      <th></th>\n",
       "      <th>cash</th>\n",
       "      <th>portfolio</th>\n",
       "      <th>price</th>\n",
       "      <th>type</th>\n",
       "    </tr>\n",
       "    <tr>\n",
       "      <th>timestamp</th>\n",
       "      <th></th>\n",
       "      <th></th>\n",
       "      <th></th>\n",
       "      <th></th>\n",
       "    </tr>\n",
       "  </thead>\n",
       "  <tbody>\n",
       "    <tr>\n",
       "      <th>2011-04-12</th>\n",
       "      <td>999753.5</td>\n",
       "      <td>110</td>\n",
       "      <td>24.65</td>\n",
       "      <td>buy</td>\n",
       "    </tr>\n",
       "    <tr>\n",
       "      <th>2011-04-13</th>\n",
       "      <td>999504.2</td>\n",
       "      <td>120</td>\n",
       "      <td>24.93</td>\n",
       "      <td>buy</td>\n",
       "    </tr>\n",
       "    <tr>\n",
       "      <th>2011-04-14</th>\n",
       "      <td>999252.8</td>\n",
       "      <td>130</td>\n",
       "      <td>25.14</td>\n",
       "      <td>buy</td>\n",
       "    </tr>\n",
       "    <tr>\n",
       "      <th>2011-04-15</th>\n",
       "      <td>998997.0</td>\n",
       "      <td>140</td>\n",
       "      <td>25.58</td>\n",
       "      <td>buy</td>\n",
       "    </tr>\n",
       "    <tr>\n",
       "      <th>2011-04-18</th>\n",
       "      <td>998746.7</td>\n",
       "      <td>150</td>\n",
       "      <td>25.03</td>\n",
       "      <td>buy</td>\n",
       "    </tr>\n",
       "  </tbody>\n",
       "</table>\n",
       "</div>"
      ],
      "text/plain": [
       "                cash  portfolio  price type\n",
       "timestamp                                  \n",
       "2011-04-12  999753.5        110  24.65  buy\n",
       "2011-04-13  999504.2        120  24.93  buy\n",
       "2011-04-14  999252.8        130  25.14  buy\n",
       "2011-04-15  998997.0        140  25.58  buy\n",
       "2011-04-18  998746.7        150  25.03  buy"
      ]
     },
     "execution_count": 16,
     "metadata": {},
     "output_type": "execute_result"
    }
   ],
   "source": [
    "backtest(df, buy, sell, 1000000, portfolio, 10)"
   ]
  },
  {
   "cell_type": "code",
   "execution_count": null,
   "metadata": {
    "collapsed": true
   },
   "outputs": [],
   "source": []
  }
 ],
 "metadata": {
  "kernelspec": {
   "display_name": "Python [conda env:algoT]",
   "language": "python",
   "name": "conda-env-algoT-py"
  },
  "language_info": {
   "codemirror_mode": {
    "name": "ipython",
    "version": 3
   },
   "file_extension": ".py",
   "mimetype": "text/x-python",
   "name": "python",
   "nbconvert_exporter": "python",
   "pygments_lexer": "ipython3",
   "version": "3.5.5"
  }
 },
 "nbformat": 4,
 "nbformat_minor": 2
}
