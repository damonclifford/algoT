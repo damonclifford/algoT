{
 "cells": [
  {
   "cell_type": "markdown",
   "metadata": {},
   "source": [
    "### Boiler"
   ]
  },
  {
   "cell_type": "code",
   "execution_count": 1,
   "metadata": {},
   "outputs": [],
   "source": [
    "import pandas  as pd\n",
    "import matplotlib.pyplot as plt\n",
    "import seaborn as sns \n",
    "%matplotlib inline\n",
    "sns.set()\n",
    "from Backtest import *\n",
    "from pandas import Timedelta\n",
    "ohlcv = pd.read_csv('data/daily_TSLA.csv', parse_dates=['timestamp']).sort_values('timestamp').set_index('timestamp')"
   ]
  },
  {
   "cell_type": "markdown",
   "metadata": {},
   "source": [
    "# v0.1 (Head)"
   ]
  },
  {
   "cell_type": "code",
   "execution_count": 4,
   "metadata": {},
   "outputs": [
    {
     "data": {
      "text/plain": [
       "{'duration_analyzed': '2911 days 00:00:00',\n",
       " 'number_of_trades': 1958,\n",
       " 'simple_return': '157.3821183104205 %',\n",
       " 'remaining_cash': -1654.1881999995312,\n",
       " 'owned_shares': 3488,\n",
       " 'portfolio_value': 1291800.8518000005}"
      ]
     },
     "execution_count": 4,
     "metadata": {},
     "output_type": "execute_result"
    }
   ],
   "source": [
    "sma = Backtest(ohlcv, 500000,ini_shares=100, algo='moving_average')\n",
    "sma.run_backtest('absolute', 11, 'absolute', 11)"
   ]
  },
  {
   "cell_type": "code",
   "execution_count": 32,
   "metadata": {},
   "outputs": [
    {
     "data": {
      "text/plain": [
       "{'duration_analyzed': '2911 days 00:00:00',\n",
       " 'number_of_trades': 536,\n",
       " 'simple_return': '450.3012969578015 %',\n",
       " 'remaining_cash': 159148.1315999998,\n",
       " 'owned_shares': 1083.0,\n",
       " 'portfolio_value': 560757.0215999997}"
      ]
     },
     "execution_count": 32,
     "metadata": {},
     "output_type": "execute_result"
    }
   ],
   "source": [
    "rsi = Backtest(ohlcv, 100000, ini_shares=100, algo='rsi')\n",
    "rsi.run_backtest('percent_cash', 51, 'percent_shares', 5)"
   ]
  },
  {
   "cell_type": "markdown",
   "metadata": {},
   "source": [
    "# v0.0 (Obsolete)"
   ]
  },
  {
   "cell_type": "code",
   "execution_count": null,
   "metadata": {},
   "outputs": [],
   "source": [
    "start = '2016-1-3'\n",
    "start = pd.to_datetime(start)\n",
    "start in ohlcv.index"
   ]
  },
  {
   "cell_type": "code",
   "execution_count": null,
   "metadata": {},
   "outputs": [],
   "source": [
    "delta = Timedelta(days=1)\n",
    "delta"
   ]
  },
  {
   "cell_type": "code",
   "execution_count": null,
   "metadata": {},
   "outputs": [],
   "source": [
    "sma = Backtest(ohlcv, 500000,ini_shares=100, algo='moving_average')\n",
    "sma.run_backtest(11)"
   ]
  },
  {
   "cell_type": "code",
   "execution_count": null,
   "metadata": {},
   "outputs": [],
   "source": [
    "rsi = Backtest(ohlcv, 100000, ini_shares=100, algo='rsi')\n",
    "rsi.run_backtest(100)"
   ]
  },
  {
   "cell_type": "code",
   "execution_count": null,
   "metadata": {},
   "outputs": [],
   "source": [
    "isinstance(ohlcv, pd.DataFrame)"
   ]
  }
 ],
 "metadata": {
  "kernelspec": {
   "display_name": "Python [default]",
   "language": "python",
   "name": "python3"
  },
  "language_info": {
   "codemirror_mode": {
    "name": "ipython",
    "version": 3
   },
   "file_extension": ".py",
   "mimetype": "text/x-python",
   "name": "python",
   "nbconvert_exporter": "python",
   "pygments_lexer": "ipython3",
   "version": "3.6.5"
  }
 },
 "nbformat": 4,
 "nbformat_minor": 2
}
