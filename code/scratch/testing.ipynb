{
 "cells": [
  {
   "cell_type": "markdown",
   "metadata": {},
   "source": [
    "# Universal Code"
   ]
  },
  {
   "cell_type": "code",
   "execution_count": 1,
   "metadata": {},
   "outputs": [],
   "source": [
    "import pandas  as pd\n",
    "import matplotlib.pyplot as plt\n",
    "import seaborn as sns \n",
    "%matplotlib inline\n",
    "sns.set()"
   ]
  },
  {
   "cell_type": "code",
   "execution_count": 2,
   "metadata": {},
   "outputs": [],
   "source": [
    "ohlcv = pd.read_csv('data/daily_TSLA.csv', parse_dates=['timestamp']).sort_values('timestamp').set_index('timestamp')"
   ]
  },
  {
   "cell_type": "code",
   "execution_count": 3,
   "metadata": {},
   "outputs": [
    {
     "data": {
      "text/html": [
       "<div>\n",
       "<style scoped>\n",
       "    .dataframe tbody tr th:only-of-type {\n",
       "        vertical-align: middle;\n",
       "    }\n",
       "\n",
       "    .dataframe tbody tr th {\n",
       "        vertical-align: top;\n",
       "    }\n",
       "\n",
       "    .dataframe thead th {\n",
       "        text-align: right;\n",
       "    }\n",
       "</style>\n",
       "<table border=\"1\" class=\"dataframe\">\n",
       "  <thead>\n",
       "    <tr style=\"text-align: right;\">\n",
       "      <th></th>\n",
       "      <th>open</th>\n",
       "      <th>high</th>\n",
       "      <th>low</th>\n",
       "      <th>close</th>\n",
       "      <th>volume</th>\n",
       "    </tr>\n",
       "    <tr>\n",
       "      <th>timestamp</th>\n",
       "      <th></th>\n",
       "      <th></th>\n",
       "      <th></th>\n",
       "      <th></th>\n",
       "      <th></th>\n",
       "    </tr>\n",
       "  </thead>\n",
       "  <tbody>\n",
       "    <tr>\n",
       "      <th>2018-06-12</th>\n",
       "      <td>344.700</td>\n",
       "      <td>354.97</td>\n",
       "      <td>338.00</td>\n",
       "      <td>342.77</td>\n",
       "      <td>22347403</td>\n",
       "    </tr>\n",
       "    <tr>\n",
       "      <th>2018-06-13</th>\n",
       "      <td>346.706</td>\n",
       "      <td>347.20</td>\n",
       "      <td>339.80</td>\n",
       "      <td>344.78</td>\n",
       "      <td>9469804</td>\n",
       "    </tr>\n",
       "    <tr>\n",
       "      <th>2018-06-14</th>\n",
       "      <td>347.630</td>\n",
       "      <td>358.75</td>\n",
       "      <td>346.60</td>\n",
       "      <td>357.72</td>\n",
       "      <td>10981023</td>\n",
       "    </tr>\n",
       "    <tr>\n",
       "      <th>2018-06-15</th>\n",
       "      <td>353.840</td>\n",
       "      <td>364.67</td>\n",
       "      <td>351.25</td>\n",
       "      <td>358.17</td>\n",
       "      <td>10848254</td>\n",
       "    </tr>\n",
       "    <tr>\n",
       "      <th>2018-06-18</th>\n",
       "      <td>355.400</td>\n",
       "      <td>373.73</td>\n",
       "      <td>354.50</td>\n",
       "      <td>370.83</td>\n",
       "      <td>12023761</td>\n",
       "    </tr>\n",
       "  </tbody>\n",
       "</table>\n",
       "</div>"
      ],
      "text/plain": [
       "               open    high     low   close    volume\n",
       "timestamp                                            \n",
       "2018-06-12  344.700  354.97  338.00  342.77  22347403\n",
       "2018-06-13  346.706  347.20  339.80  344.78   9469804\n",
       "2018-06-14  347.630  358.75  346.60  357.72  10981023\n",
       "2018-06-15  353.840  364.67  351.25  358.17  10848254\n",
       "2018-06-18  355.400  373.73  354.50  370.83  12023761"
      ]
     },
     "execution_count": 3,
     "metadata": {},
     "output_type": "execute_result"
    }
   ],
   "source": [
    "ohlcv.tail()"
   ]
  },
  {
   "cell_type": "markdown",
   "metadata": {},
   "source": [
    "# Testing starts here"
   ]
  },
  {
   "cell_type": "code",
   "execution_count": 4,
   "metadata": {},
   "outputs": [],
   "source": [
    "from backtest import *"
   ]
  },
  {
   "cell_type": "code",
   "execution_count": 5,
   "metadata": {},
   "outputs": [],
   "source": [
    "bt = Backtest(ohlcv, 500000, ini_shares=10, algo='moving_average')"
   ]
  },
  {
   "cell_type": "code",
   "execution_count": 13,
   "metadata": {},
   "outputs": [
    {
     "data": {
      "text/plain": [
       "{'duration_analyzed': '2911 days 00:00:00',\n",
       " 'number_of_trades': 1958,\n",
       " 'simple_return': '137.9123679001978 %',\n",
       " 'remaining_cash': 44149.172999999406,\n",
       " 'owned_shares': 3090,\n",
       " 'portfolio_value': 1190013.8729999994}"
      ]
     },
     "execution_count": 13,
     "metadata": {},
     "output_type": "execute_result"
    }
   ],
   "source": [
    "bt.run_backtest(10)"
   ]
  },
  {
   "cell_type": "code",
   "execution_count": 14,
   "metadata": {},
   "outputs": [
    {
     "data": {
      "text/plain": [
       "{'duration_analyzed': '2911 days 00:00:00',\n",
       " 'number_of_trades': 1958,\n",
       " 'simple_return': '137.9123679001978 %',\n",
       " 'remaining_cash': 44149.172999999406,\n",
       " 'owned_shares': 3090,\n",
       " 'portfolio_value': 1190013.8729999994}"
      ]
     },
     "execution_count": 14,
     "metadata": {},
     "output_type": "execute_result"
    }
   ],
   "source": [
    "bt.summary()"
   ]
  }
 ],
 "metadata": {
  "kernelspec": {
   "display_name": "Python [default]",
   "language": "python",
   "name": "python3"
  },
  "language_info": {
   "codemirror_mode": {
    "name": "ipython",
    "version": 3
   },
   "file_extension": ".py",
   "mimetype": "text/x-python",
   "name": "python",
   "nbconvert_exporter": "python",
   "pygments_lexer": "ipython3",
   "version": "3.6.5"
  }
 },
 "nbformat": 4,
 "nbformat_minor": 2
}
