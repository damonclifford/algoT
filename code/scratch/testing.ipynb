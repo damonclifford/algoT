{
 "cells": [
  {
   "cell_type": "markdown",
   "metadata": {},
   "source": [
    "# Universal Code"
   ]
  },
  {
   "cell_type": "code",
   "execution_count": 1,
   "metadata": {},
   "outputs": [],
   "source": [
    "import pandas  as pd\n",
    "import matplotlib.pyplot as plt\n",
    "import seaborn as sns \n",
    "%matplotlib inline\n",
    "sns.set()"
   ]
  },
  {
   "cell_type": "code",
   "execution_count": 2,
   "metadata": {},
   "outputs": [],
   "source": [
    "ohlcv = pd.read_csv('data/daily_TSLA.csv', parse_dates=['timestamp']).sort_values('timestamp').set_index('timestamp')"
   ]
  },
  {
   "cell_type": "markdown",
   "metadata": {},
   "source": [
    "# Testing starts here"
   ]
  },
  {
   "cell_type": "code",
   "execution_count": 3,
   "metadata": {},
   "outputs": [],
   "source": [
    "from backtest import *"
   ]
  },
  {
   "cell_type": "code",
   "execution_count": 18,
   "metadata": {},
   "outputs": [
    {
     "data": {
      "text/html": [
       "<div>\n",
       "<style scoped>\n",
       "    .dataframe tbody tr th:only-of-type {\n",
       "        vertical-align: middle;\n",
       "    }\n",
       "\n",
       "    .dataframe tbody tr th {\n",
       "        vertical-align: top;\n",
       "    }\n",
       "\n",
       "    .dataframe thead th {\n",
       "        text-align: right;\n",
       "    }\n",
       "</style>\n",
       "<table border=\"1\" class=\"dataframe\">\n",
       "  <thead>\n",
       "    <tr style=\"text-align: right;\">\n",
       "      <th></th>\n",
       "      <th>open</th>\n",
       "      <th>high</th>\n",
       "      <th>low</th>\n",
       "      <th>close</th>\n",
       "      <th>volume</th>\n",
       "    </tr>\n",
       "    <tr>\n",
       "      <th>timestamp</th>\n",
       "      <th></th>\n",
       "      <th></th>\n",
       "      <th></th>\n",
       "      <th></th>\n",
       "      <th></th>\n",
       "    </tr>\n",
       "  </thead>\n",
       "  <tbody>\n",
       "    <tr>\n",
       "      <th>2015-01-02</th>\n",
       "      <td>222.87</td>\n",
       "      <td>223.2500</td>\n",
       "      <td>213.2600</td>\n",
       "      <td>219.310</td>\n",
       "      <td>4764443</td>\n",
       "    </tr>\n",
       "    <tr>\n",
       "      <th>2015-01-05</th>\n",
       "      <td>214.55</td>\n",
       "      <td>216.5000</td>\n",
       "      <td>207.1626</td>\n",
       "      <td>210.090</td>\n",
       "      <td>5368477</td>\n",
       "    </tr>\n",
       "    <tr>\n",
       "      <th>2015-01-06</th>\n",
       "      <td>210.06</td>\n",
       "      <td>214.2000</td>\n",
       "      <td>204.2100</td>\n",
       "      <td>211.280</td>\n",
       "      <td>6261936</td>\n",
       "    </tr>\n",
       "    <tr>\n",
       "      <th>2015-01-07</th>\n",
       "      <td>213.35</td>\n",
       "      <td>214.7800</td>\n",
       "      <td>209.7800</td>\n",
       "      <td>210.950</td>\n",
       "      <td>2968390</td>\n",
       "    </tr>\n",
       "    <tr>\n",
       "      <th>2015-01-08</th>\n",
       "      <td>212.81</td>\n",
       "      <td>213.7999</td>\n",
       "      <td>210.0100</td>\n",
       "      <td>210.615</td>\n",
       "      <td>3442509</td>\n",
       "    </tr>\n",
       "    <tr>\n",
       "      <th>2015-01-09</th>\n",
       "      <td>208.92</td>\n",
       "      <td>209.9800</td>\n",
       "      <td>204.9600</td>\n",
       "      <td>206.660</td>\n",
       "      <td>4580722</td>\n",
       "    </tr>\n",
       "    <tr>\n",
       "      <th>2015-01-12</th>\n",
       "      <td>203.05</td>\n",
       "      <td>204.4700</td>\n",
       "      <td>199.2500</td>\n",
       "      <td>202.210</td>\n",
       "      <td>5950280</td>\n",
       "    </tr>\n",
       "    <tr>\n",
       "      <th>2015-01-13</th>\n",
       "      <td>203.32</td>\n",
       "      <td>207.6100</td>\n",
       "      <td>200.9110</td>\n",
       "      <td>204.250</td>\n",
       "      <td>4477320</td>\n",
       "    </tr>\n",
       "    <tr>\n",
       "      <th>2015-01-14</th>\n",
       "      <td>185.83</td>\n",
       "      <td>195.2000</td>\n",
       "      <td>185.0000</td>\n",
       "      <td>192.690</td>\n",
       "      <td>11551855</td>\n",
       "    </tr>\n",
       "    <tr>\n",
       "      <th>2015-01-15</th>\n",
       "      <td>194.49</td>\n",
       "      <td>195.7499</td>\n",
       "      <td>190.0000</td>\n",
       "      <td>191.870</td>\n",
       "      <td>5216524</td>\n",
       "    </tr>\n",
       "    <tr>\n",
       "      <th>2015-01-16</th>\n",
       "      <td>190.70</td>\n",
       "      <td>194.4900</td>\n",
       "      <td>189.6500</td>\n",
       "      <td>193.070</td>\n",
       "      <td>3603158</td>\n",
       "    </tr>\n",
       "    <tr>\n",
       "      <th>2015-01-20</th>\n",
       "      <td>193.87</td>\n",
       "      <td>194.1199</td>\n",
       "      <td>187.0400</td>\n",
       "      <td>191.930</td>\n",
       "      <td>4503182</td>\n",
       "    </tr>\n",
       "    <tr>\n",
       "      <th>2015-01-21</th>\n",
       "      <td>189.55</td>\n",
       "      <td>198.6800</td>\n",
       "      <td>189.5100</td>\n",
       "      <td>196.570</td>\n",
       "      <td>4153043</td>\n",
       "    </tr>\n",
       "    <tr>\n",
       "      <th>2015-01-22</th>\n",
       "      <td>197.00</td>\n",
       "      <td>203.2400</td>\n",
       "      <td>195.2000</td>\n",
       "      <td>201.620</td>\n",
       "      <td>4116905</td>\n",
       "    </tr>\n",
       "    <tr>\n",
       "      <th>2015-01-23</th>\n",
       "      <td>200.29</td>\n",
       "      <td>203.5000</td>\n",
       "      <td>198.3300</td>\n",
       "      <td>201.290</td>\n",
       "      <td>3442371</td>\n",
       "    </tr>\n",
       "    <tr>\n",
       "      <th>2015-01-26</th>\n",
       "      <td>201.83</td>\n",
       "      <td>208.6200</td>\n",
       "      <td>201.0500</td>\n",
       "      <td>206.550</td>\n",
       "      <td>3234522</td>\n",
       "    </tr>\n",
       "    <tr>\n",
       "      <th>2015-01-27</th>\n",
       "      <td>204.42</td>\n",
       "      <td>208.0300</td>\n",
       "      <td>203.3000</td>\n",
       "      <td>205.980</td>\n",
       "      <td>2781024</td>\n",
       "    </tr>\n",
       "    <tr>\n",
       "      <th>2015-01-28</th>\n",
       "      <td>206.11</td>\n",
       "      <td>206.3680</td>\n",
       "      <td>198.4200</td>\n",
       "      <td>199.370</td>\n",
       "      <td>3149606</td>\n",
       "    </tr>\n",
       "    <tr>\n",
       "      <th>2015-01-29</th>\n",
       "      <td>201.07</td>\n",
       "      <td>205.9800</td>\n",
       "      <td>196.5000</td>\n",
       "      <td>205.200</td>\n",
       "      <td>3548106</td>\n",
       "    </tr>\n",
       "    <tr>\n",
       "      <th>2015-01-30</th>\n",
       "      <td>203.96</td>\n",
       "      <td>207.4700</td>\n",
       "      <td>203.0000</td>\n",
       "      <td>203.600</td>\n",
       "      <td>3006959</td>\n",
       "    </tr>\n",
       "  </tbody>\n",
       "</table>\n",
       "</div>"
      ],
      "text/plain": [
       "              open      high       low    close    volume\n",
       "timestamp                                                \n",
       "2015-01-02  222.87  223.2500  213.2600  219.310   4764443\n",
       "2015-01-05  214.55  216.5000  207.1626  210.090   5368477\n",
       "2015-01-06  210.06  214.2000  204.2100  211.280   6261936\n",
       "2015-01-07  213.35  214.7800  209.7800  210.950   2968390\n",
       "2015-01-08  212.81  213.7999  210.0100  210.615   3442509\n",
       "2015-01-09  208.92  209.9800  204.9600  206.660   4580722\n",
       "2015-01-12  203.05  204.4700  199.2500  202.210   5950280\n",
       "2015-01-13  203.32  207.6100  200.9110  204.250   4477320\n",
       "2015-01-14  185.83  195.2000  185.0000  192.690  11551855\n",
       "2015-01-15  194.49  195.7499  190.0000  191.870   5216524\n",
       "2015-01-16  190.70  194.4900  189.6500  193.070   3603158\n",
       "2015-01-20  193.87  194.1199  187.0400  191.930   4503182\n",
       "2015-01-21  189.55  198.6800  189.5100  196.570   4153043\n",
       "2015-01-22  197.00  203.2400  195.2000  201.620   4116905\n",
       "2015-01-23  200.29  203.5000  198.3300  201.290   3442371\n",
       "2015-01-26  201.83  208.6200  201.0500  206.550   3234522\n",
       "2015-01-27  204.42  208.0300  203.3000  205.980   2781024\n",
       "2015-01-28  206.11  206.3680  198.4200  199.370   3149606\n",
       "2015-01-29  201.07  205.9800  196.5000  205.200   3548106\n",
       "2015-01-30  203.96  207.4700  203.0000  203.600   3006959"
      ]
     },
     "execution_count": 18,
     "metadata": {},
     "output_type": "execute_result"
    }
   ],
   "source": [
    "ohlcv['2015-1']"
   ]
  },
  {
   "cell_type": "code",
   "execution_count": 33,
   "metadata": {},
   "outputs": [
    {
     "data": {
      "text/plain": [
       "<matplotlib.axes._subplots.AxesSubplot at 0x26d47e0b588>"
      ]
     },
     "execution_count": 33,
     "metadata": {},
     "output_type": "execute_result"
    },
    {
     "data": {
      "image/png": "[encoded data removed]",
      "text/plain": [
       "<Figure size 432x288 with 1 Axes>"
      ]
     },
     "metadata": {},
     "output_type": "display_data"
    }
   ],
   "source": [
    "ohlcv.loc['2015-1-2':'2016-1-4']['close'].plot()\n",
    "ohlcv.loc['2015-1-2':'2016-1-4']['close'].rolling(20).mean().plot()\n",
    "ohlcv.loc['2015-1-2':'2016-1-4']['close'].rolling(50).mean().plot()"
   ]
  },
  {
   "cell_type": "code",
   "execution_count": 24,
   "metadata": {},
   "outputs": [],
   "source": [
    "sma = Backtest(ohlcv, 50000, start='2015-1-2', end='2016-1-4', ini_shares=100, algo='moving_average')"
   ]
  },
  {
   "cell_type": "code",
   "execution_count": 32,
   "metadata": {},
   "outputs": [
    {
     "data": {
      "text/plain": [
       "{'duration_analyzed': '367 days 00:00:00',\n",
       " 'number_of_trades': 204,\n",
       " 'simple_return': '-3490.324678019561 %',\n",
       " 'remaining_cash': -5154025.0,\n",
       " 'owned_shares': 12100,\n",
       " 'portfolio_value': -2450764.0}"
      ]
     },
     "execution_count": 32,
     "metadata": {},
     "output_type": "execute_result"
    }
   ],
   "source": [
    "sma.run_backtest(1000)"
   ]
  },
  {
   "cell_type": "code",
   "execution_count": null,
   "metadata": {},
   "outputs": [],
   "source": [
    "rsi = Backtest(ohlcv, 100000, ini_shares=100, algo='rsi')"
   ]
  },
  {
   "cell_type": "code",
   "execution_count": null,
   "metadata": {},
   "outputs": [],
   "source": [
    "rsi.run_backtest(10)"
   ]
  }
 ],
 "metadata": {
  "kernelspec": {
   "display_name": "Python [default]",
   "language": "python",
   "name": "python3"
  },
  "language_info": {
   "codemirror_mode": {
    "name": "ipython",
    "version": 3
   },
   "file_extension": ".py",
   "mimetype": "text/x-python",
   "name": "python",
   "nbconvert_exporter": "python",
   "pygments_lexer": "ipython3",
   "version": "3.6.5"
  }
 },
 "nbformat": 4,
 "nbformat_minor": 2
}
